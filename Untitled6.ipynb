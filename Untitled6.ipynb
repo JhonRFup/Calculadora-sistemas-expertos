{
  "nbformat": 4,
  "nbformat_minor": 0,
  "metadata": {
    "colab": {
      "name": "Untitled6.ipynb",
      "provenance": [],
      "collapsed_sections": [],
      "authorship_tag": "ABX9TyNFRPlfNJZ7LZ5trq5N3f8I",
      "include_colab_link": true
    },
    "kernelspec": {
      "name": "python3",
      "display_name": "Python 3"
    }
  },
  "cells": [
    {
      "cell_type": "markdown",
      "metadata": {
        "id": "view-in-github",
        "colab_type": "text"
      },
      "source": [
        "<a href=\"https://colab.research.google.com/github/Johnn19/Calculadora-sistemas-expertos/blob/master/Untitled6.ipynb\" target=\"_parent\"><img src=\"https://colab.research.google.com/assets/colab-badge.svg\" alt=\"Open In Colab\"/></a>"
      ]
    },
    {
      "cell_type": "code",
      "metadata": {
        "id": "ylS8wvsNNIGP",
        "colab_type": "code",
        "colab": {
          "resources": {
            "http://localhost:8080/nbextensions/google.colab/files.js": {
              "data": "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",
              "ok": true,
              "headers": [
                [
                  "content-type",
                  "application/javascript"
                ]
              ],
              "status": 200,
              "status_text": ""
            }
          },
          "base_uri": "https://localhost:8080/",
          "height": 73
        },
        "outputId": "9a24eb39-db72-4021-8f22-3d7dfa4d4db3"
      },
      "source": [
        "from google.colab import files\n",
        "files.upload()"
      ],
      "execution_count": 6,
      "outputs": [
        {
          "output_type": "display_data",
          "data": {
            "text/html": [
              "\n",
              "     <input type=\"file\" id=\"files-da15a306-36a2-4e5d-90dc-86befa632ee5\" name=\"files[]\" multiple disabled\n",
              "        style=\"border:none\" />\n",
              "     <output id=\"result-da15a306-36a2-4e5d-90dc-86befa632ee5\">\n",
              "      Upload widget is only available when the cell has been executed in the\n",
              "      current browser session. Please rerun this cell to enable.\n",
              "      </output>\n",
              "      <script src=\"/nbextensions/google.colab/files.js\"></script> "
            ],
            "text/plain": [
              "<IPython.core.display.HTML object>"
            ]
          },
          "metadata": {
            "tags": []
          }
        },
        {
          "output_type": "stream",
          "text": [
            "Saving covid19_tweets.csv to covid19_tweets.csv\n"
          ],
          "name": "stdout"
        }
      ]
    },
    {
      "cell_type": "code",
      "metadata": {
        "id": "DTSfcdNbN9tc",
        "colab_type": "code",
        "colab": {
          "base_uri": "https://localhost:8080/",
          "height": 485
        },
        "outputId": "deef4e64-b4ec-4400-bb50-e22fa384e90e"
      },
      "source": [
        "import pandas as pd\n",
        "df = pd.read_csv('covid19_tweets.csv')\n",
        "print(df.head(10))\n",
        "df.tail(3)"
      ],
      "execution_count": 7,
      "outputs": [
        {
          "output_type": "stream",
          "text": [
            "                           user_name  ... is_retweet\n",
            "0                             ᏉᎥ☻լꂅϮ  ...      False\n",
            "1                      Tom Basile 🇺🇸  ...      False\n",
            "2                    Time4fisticuffs  ...      False\n",
            "3                        ethel mertz  ...      False\n",
            "4                           DIPR-J&K  ...      False\n",
            "5                   🎹 Franz Schubert  ...      False\n",
            "6                       hr bartender  ...      False\n",
            "7                     Derbyshire LPC  ...      False\n",
            "8                  Prathamesh Bendre  ...      False\n",
            "9  Member of Christ 🇨🇳🇺🇸🇮🇳🇮🇩🇧🇷🇳🇬🇧🇩🇷🇺  ...      False\n",
            "\n",
            "[10 rows x 13 columns]\n"
          ],
          "name": "stdout"
        },
        {
          "output_type": "execute_result",
          "data": {
            "text/html": [
              "<div>\n",
              "<style scoped>\n",
              "    .dataframe tbody tr th:only-of-type {\n",
              "        vertical-align: middle;\n",
              "    }\n",
              "\n",
              "    .dataframe tbody tr th {\n",
              "        vertical-align: top;\n",
              "    }\n",
              "\n",
              "    .dataframe thead th {\n",
              "        text-align: right;\n",
              "    }\n",
              "</style>\n",
              "<table border=\"1\" class=\"dataframe\">\n",
              "  <thead>\n",
              "    <tr style=\"text-align: right;\">\n",
              "      <th></th>\n",
              "      <th>user_name</th>\n",
              "      <th>user_location</th>\n",
              "      <th>user_description</th>\n",
              "      <th>user_created</th>\n",
              "      <th>user_followers</th>\n",
              "      <th>user_friends</th>\n",
              "      <th>user_favourites</th>\n",
              "      <th>user_verified</th>\n",
              "      <th>date</th>\n",
              "      <th>text</th>\n",
              "      <th>hashtags</th>\n",
              "      <th>source</th>\n",
              "      <th>is_retweet</th>\n",
              "    </tr>\n",
              "  </thead>\n",
              "  <tbody>\n",
              "    <tr>\n",
              "      <th>179105</th>\n",
              "      <td>BEEHEMOTH ⏳</td>\n",
              "      <td>🇨🇦 Canada</td>\n",
              "      <td>⚒️ The Architects of Free Trade ⚒️ Really Did ...</td>\n",
              "      <td>2016-07-13 17:21:59</td>\n",
              "      <td>1623</td>\n",
              "      <td>2160</td>\n",
              "      <td>98000</td>\n",
              "      <td>False</td>\n",
              "      <td>2020-08-29 19:44:15</td>\n",
              "      <td>@CTVNews A powerful painting by Juan Lucena. I...</td>\n",
              "      <td>NaN</td>\n",
              "      <td>Twitter Web App</td>\n",
              "      <td>False</td>\n",
              "    </tr>\n",
              "    <tr>\n",
              "      <th>179106</th>\n",
              "      <td>Gary DelPonte</td>\n",
              "      <td>New York City</td>\n",
              "      <td>Global UX UI Visual Designer. StoryTeller, Mus...</td>\n",
              "      <td>2009-10-27 17:43:13</td>\n",
              "      <td>1338</td>\n",
              "      <td>1111</td>\n",
              "      <td>0</td>\n",
              "      <td>False</td>\n",
              "      <td>2020-08-29 19:44:14</td>\n",
              "      <td>More than 1,200 students test positive for #CO...</td>\n",
              "      <td>['COVID19']</td>\n",
              "      <td>Twitter for iPhone</td>\n",
              "      <td>False</td>\n",
              "    </tr>\n",
              "    <tr>\n",
              "      <th>179107</th>\n",
              "      <td>TUKY II</td>\n",
              "      <td>Aliwal North, South Africa</td>\n",
              "      <td>TOKELO SEKHOPA | TUKY II | LAST BORN | EISH TU...</td>\n",
              "      <td>2018-04-14 17:30:07</td>\n",
              "      <td>97</td>\n",
              "      <td>1697</td>\n",
              "      <td>566</td>\n",
              "      <td>False</td>\n",
              "      <td>2020-08-29 19:44:08</td>\n",
              "      <td>I stop when I see a Stop\\n\\n@SABCNews\\n@Izinda...</td>\n",
              "      <td>NaN</td>\n",
              "      <td>Twitter for Android</td>\n",
              "      <td>False</td>\n",
              "    </tr>\n",
              "  </tbody>\n",
              "</table>\n",
              "</div>"
            ],
            "text/plain": [
              "            user_name  ... is_retweet\n",
              "179105    BEEHEMOTH ⏳  ...      False\n",
              "179106  Gary DelPonte  ...      False\n",
              "179107        TUKY II  ...      False\n",
              "\n",
              "[3 rows x 13 columns]"
            ]
          },
          "metadata": {
            "tags": []
          },
          "execution_count": 7
        }
      ]
    },
    {
      "cell_type": "code",
      "metadata": {
        "id": "rm3Gy39HTTX-",
        "colab_type": "code",
        "colab": {
          "base_uri": "https://localhost:8080/",
          "height": 255
        },
        "outputId": "35d2b686-9acc-4950-b9a7-281c33b4ee32"
      },
      "source": [
        "df.dtypes\n"
      ],
      "execution_count": 8,
      "outputs": [
        {
          "output_type": "execute_result",
          "data": {
            "text/plain": [
              "user_name           object\n",
              "user_location       object\n",
              "user_description    object\n",
              "user_created        object\n",
              "user_followers       int64\n",
              "user_friends         int64\n",
              "user_favourites      int64\n",
              "user_verified         bool\n",
              "date                object\n",
              "text                object\n",
              "hashtags            object\n",
              "source              object\n",
              "is_retweet            bool\n",
              "dtype: object"
            ]
          },
          "metadata": {
            "tags": []
          },
          "execution_count": 8
        }
      ]
    },
    {
      "cell_type": "code",
      "metadata": {
        "id": "l7MKyMmFTU7j",
        "colab_type": "code",
        "colab": {
          "base_uri": "https://localhost:8080/",
          "height": 478
        },
        "outputId": "91f25fea-6354-4c89-e883-a2d2070e002d"
      },
      "source": [
        "#caracteristicas\n",
        "df.describe()\n",
        "df.describe(include = \"all\")"
      ],
      "execution_count": 9,
      "outputs": [
        {
          "output_type": "execute_result",
          "data": {
            "text/html": [
              "<div>\n",
              "<style scoped>\n",
              "    .dataframe tbody tr th:only-of-type {\n",
              "        vertical-align: middle;\n",
              "    }\n",
              "\n",
              "    .dataframe tbody tr th {\n",
              "        vertical-align: top;\n",
              "    }\n",
              "\n",
              "    .dataframe thead th {\n",
              "        text-align: right;\n",
              "    }\n",
              "</style>\n",
              "<table border=\"1\" class=\"dataframe\">\n",
              "  <thead>\n",
              "    <tr style=\"text-align: right;\">\n",
              "      <th></th>\n",
              "      <th>user_name</th>\n",
              "      <th>user_location</th>\n",
              "      <th>user_description</th>\n",
              "      <th>user_created</th>\n",
              "      <th>user_followers</th>\n",
              "      <th>user_friends</th>\n",
              "      <th>user_favourites</th>\n",
              "      <th>user_verified</th>\n",
              "      <th>date</th>\n",
              "      <th>text</th>\n",
              "      <th>hashtags</th>\n",
              "      <th>source</th>\n",
              "      <th>is_retweet</th>\n",
              "    </tr>\n",
              "  </thead>\n",
              "  <tbody>\n",
              "    <tr>\n",
              "      <th>count</th>\n",
              "      <td>179108</td>\n",
              "      <td>142337</td>\n",
              "      <td>168822</td>\n",
              "      <td>179108</td>\n",
              "      <td>1.791080e+05</td>\n",
              "      <td>179108.000000</td>\n",
              "      <td>1.791080e+05</td>\n",
              "      <td>179108</td>\n",
              "      <td>179108</td>\n",
              "      <td>179108</td>\n",
              "      <td>127774</td>\n",
              "      <td>179031</td>\n",
              "      <td>179108</td>\n",
              "    </tr>\n",
              "    <tr>\n",
              "      <th>unique</th>\n",
              "      <td>92276</td>\n",
              "      <td>26920</td>\n",
              "      <td>89200</td>\n",
              "      <td>93708</td>\n",
              "      <td>NaN</td>\n",
              "      <td>NaN</td>\n",
              "      <td>NaN</td>\n",
              "      <td>2</td>\n",
              "      <td>136611</td>\n",
              "      <td>178683</td>\n",
              "      <td>52640</td>\n",
              "      <td>610</td>\n",
              "      <td>1</td>\n",
              "    </tr>\n",
              "    <tr>\n",
              "      <th>top</th>\n",
              "      <td>GlobalPandemic.NET</td>\n",
              "      <td>India</td>\n",
              "      <td>Breaking News &amp; Critical Information to SURVIV...</td>\n",
              "      <td>2010-07-13 21:58:05</td>\n",
              "      <td>NaN</td>\n",
              "      <td>NaN</td>\n",
              "      <td>NaN</td>\n",
              "      <td>False</td>\n",
              "      <td>2020-08-06 16:00:00</td>\n",
              "      <td>The incompetence of this administration, and t...</td>\n",
              "      <td>['COVID19']</td>\n",
              "      <td>Twitter Web App</td>\n",
              "      <td>False</td>\n",
              "    </tr>\n",
              "    <tr>\n",
              "      <th>freq</th>\n",
              "      <td>679</td>\n",
              "      <td>3741</td>\n",
              "      <td>679</td>\n",
              "      <td>679</td>\n",
              "      <td>NaN</td>\n",
              "      <td>NaN</td>\n",
              "      <td>NaN</td>\n",
              "      <td>156013</td>\n",
              "      <td>26</td>\n",
              "      <td>13</td>\n",
              "      <td>37792</td>\n",
              "      <td>56891</td>\n",
              "      <td>179108</td>\n",
              "    </tr>\n",
              "    <tr>\n",
              "      <th>mean</th>\n",
              "      <td>NaN</td>\n",
              "      <td>NaN</td>\n",
              "      <td>NaN</td>\n",
              "      <td>NaN</td>\n",
              "      <td>1.090555e+05</td>\n",
              "      <td>2121.701566</td>\n",
              "      <td>1.444411e+04</td>\n",
              "      <td>NaN</td>\n",
              "      <td>NaN</td>\n",
              "      <td>NaN</td>\n",
              "      <td>NaN</td>\n",
              "      <td>NaN</td>\n",
              "      <td>NaN</td>\n",
              "    </tr>\n",
              "    <tr>\n",
              "      <th>std</th>\n",
              "      <td>NaN</td>\n",
              "      <td>NaN</td>\n",
              "      <td>NaN</td>\n",
              "      <td>NaN</td>\n",
              "      <td>8.414670e+05</td>\n",
              "      <td>9162.553072</td>\n",
              "      <td>4.452270e+04</td>\n",
              "      <td>NaN</td>\n",
              "      <td>NaN</td>\n",
              "      <td>NaN</td>\n",
              "      <td>NaN</td>\n",
              "      <td>NaN</td>\n",
              "      <td>NaN</td>\n",
              "    </tr>\n",
              "    <tr>\n",
              "      <th>min</th>\n",
              "      <td>NaN</td>\n",
              "      <td>NaN</td>\n",
              "      <td>NaN</td>\n",
              "      <td>NaN</td>\n",
              "      <td>0.000000e+00</td>\n",
              "      <td>0.000000</td>\n",
              "      <td>0.000000e+00</td>\n",
              "      <td>NaN</td>\n",
              "      <td>NaN</td>\n",
              "      <td>NaN</td>\n",
              "      <td>NaN</td>\n",
              "      <td>NaN</td>\n",
              "      <td>NaN</td>\n",
              "    </tr>\n",
              "    <tr>\n",
              "      <th>25%</th>\n",
              "      <td>NaN</td>\n",
              "      <td>NaN</td>\n",
              "      <td>NaN</td>\n",
              "      <td>NaN</td>\n",
              "      <td>1.720000e+02</td>\n",
              "      <td>148.000000</td>\n",
              "      <td>2.060000e+02</td>\n",
              "      <td>NaN</td>\n",
              "      <td>NaN</td>\n",
              "      <td>NaN</td>\n",
              "      <td>NaN</td>\n",
              "      <td>NaN</td>\n",
              "      <td>NaN</td>\n",
              "    </tr>\n",
              "    <tr>\n",
              "      <th>50%</th>\n",
              "      <td>NaN</td>\n",
              "      <td>NaN</td>\n",
              "      <td>NaN</td>\n",
              "      <td>NaN</td>\n",
              "      <td>9.920000e+02</td>\n",
              "      <td>542.000000</td>\n",
              "      <td>1.791000e+03</td>\n",
              "      <td>NaN</td>\n",
              "      <td>NaN</td>\n",
              "      <td>NaN</td>\n",
              "      <td>NaN</td>\n",
              "      <td>NaN</td>\n",
              "      <td>NaN</td>\n",
              "    </tr>\n",
              "    <tr>\n",
              "      <th>75%</th>\n",
              "      <td>NaN</td>\n",
              "      <td>NaN</td>\n",
              "      <td>NaN</td>\n",
              "      <td>NaN</td>\n",
              "      <td>5.284000e+03</td>\n",
              "      <td>1725.250000</td>\n",
              "      <td>9.388000e+03</td>\n",
              "      <td>NaN</td>\n",
              "      <td>NaN</td>\n",
              "      <td>NaN</td>\n",
              "      <td>NaN</td>\n",
              "      <td>NaN</td>\n",
              "      <td>NaN</td>\n",
              "    </tr>\n",
              "    <tr>\n",
              "      <th>max</th>\n",
              "      <td>NaN</td>\n",
              "      <td>NaN</td>\n",
              "      <td>NaN</td>\n",
              "      <td>NaN</td>\n",
              "      <td>4.944256e+07</td>\n",
              "      <td>497363.000000</td>\n",
              "      <td>2.047197e+06</td>\n",
              "      <td>NaN</td>\n",
              "      <td>NaN</td>\n",
              "      <td>NaN</td>\n",
              "      <td>NaN</td>\n",
              "      <td>NaN</td>\n",
              "      <td>NaN</td>\n",
              "    </tr>\n",
              "  </tbody>\n",
              "</table>\n",
              "</div>"
            ],
            "text/plain": [
              "                 user_name user_location  ...           source is_retweet\n",
              "count               179108        142337  ...           179031     179108\n",
              "unique               92276         26920  ...              610          1\n",
              "top     GlobalPandemic.NET         India  ...  Twitter Web App      False\n",
              "freq                   679          3741  ...            56891     179108\n",
              "mean                   NaN           NaN  ...              NaN        NaN\n",
              "std                    NaN           NaN  ...              NaN        NaN\n",
              "min                    NaN           NaN  ...              NaN        NaN\n",
              "25%                    NaN           NaN  ...              NaN        NaN\n",
              "50%                    NaN           NaN  ...              NaN        NaN\n",
              "75%                    NaN           NaN  ...              NaN        NaN\n",
              "max                    NaN           NaN  ...              NaN        NaN\n",
              "\n",
              "[11 rows x 13 columns]"
            ]
          },
          "metadata": {
            "tags": []
          },
          "execution_count": 9
        }
      ]
    },
    {
      "cell_type": "code",
      "metadata": {
        "id": "Tq5DeNs1Tf1a",
        "colab_type": "code",
        "colab": {
          "base_uri": "https://localhost:8080/",
          "height": 173
        },
        "outputId": "31be451a-d667-4eb0-f3ae-7173a88e2f01"
      },
      "source": [
        "df[['user_name','user_location']].describe()"
      ],
      "execution_count": 12,
      "outputs": [
        {
          "output_type": "execute_result",
          "data": {
            "text/html": [
              "<div>\n",
              "<style scoped>\n",
              "    .dataframe tbody tr th:only-of-type {\n",
              "        vertical-align: middle;\n",
              "    }\n",
              "\n",
              "    .dataframe tbody tr th {\n",
              "        vertical-align: top;\n",
              "    }\n",
              "\n",
              "    .dataframe thead th {\n",
              "        text-align: right;\n",
              "    }\n",
              "</style>\n",
              "<table border=\"1\" class=\"dataframe\">\n",
              "  <thead>\n",
              "    <tr style=\"text-align: right;\">\n",
              "      <th></th>\n",
              "      <th>user_name</th>\n",
              "      <th>user_location</th>\n",
              "    </tr>\n",
              "  </thead>\n",
              "  <tbody>\n",
              "    <tr>\n",
              "      <th>count</th>\n",
              "      <td>179108</td>\n",
              "      <td>142337</td>\n",
              "    </tr>\n",
              "    <tr>\n",
              "      <th>unique</th>\n",
              "      <td>92276</td>\n",
              "      <td>26920</td>\n",
              "    </tr>\n",
              "    <tr>\n",
              "      <th>top</th>\n",
              "      <td>GlobalPandemic.NET</td>\n",
              "      <td>India</td>\n",
              "    </tr>\n",
              "    <tr>\n",
              "      <th>freq</th>\n",
              "      <td>679</td>\n",
              "      <td>3741</td>\n",
              "    </tr>\n",
              "  </tbody>\n",
              "</table>\n",
              "</div>"
            ],
            "text/plain": [
              "                 user_name user_location\n",
              "count               179108        142337\n",
              "unique               92276         26920\n",
              "top     GlobalPandemic.NET         India\n",
              "freq                   679          3741"
            ]
          },
          "metadata": {
            "tags": []
          },
          "execution_count": 12
        }
      ]
    },
    {
      "cell_type": "code",
      "metadata": {
        "id": "8ZI4Li8YTwxJ",
        "colab_type": "code",
        "colab": {
          "base_uri": "https://localhost:8080/",
          "height": 255
        },
        "outputId": "020cec46-e580-4b18-fef8-eb2a3bc9cc60"
      },
      "source": [
        "df.info\n"
      ],
      "execution_count": 13,
      "outputs": [
        {
          "output_type": "execute_result",
          "data": {
            "text/plain": [
              "<bound method DataFrame.info of                      user_name  ... is_retweet\n",
              "0                       ᏉᎥ☻լꂅϮ  ...      False\n",
              "1                Tom Basile 🇺🇸  ...      False\n",
              "2              Time4fisticuffs  ...      False\n",
              "3                  ethel mertz  ...      False\n",
              "4                     DIPR-J&K  ...      False\n",
              "...                        ...  ...        ...\n",
              "179103  AJIMATI AbdulRahman O.  ...      False\n",
              "179104                   Jason  ...      False\n",
              "179105             BEEHEMOTH ⏳  ...      False\n",
              "179106           Gary DelPonte  ...      False\n",
              "179107                 TUKY II  ...      False\n",
              "\n",
              "[179108 rows x 13 columns]>"
            ]
          },
          "metadata": {
            "tags": []
          },
          "execution_count": 13
        }
      ]
    },
    {
      "cell_type": "code",
      "metadata": {
        "id": "nQokSGpST0Ub",
        "colab_type": "code",
        "colab": {
          "base_uri": "https://localhost:8080/",
          "height": 204
        },
        "outputId": "d8fd84f9-4a8f-4905-e380-b84b31da72db"
      },
      "source": [
        "#correlacion\n",
        "df.corr()"
      ],
      "execution_count": 14,
      "outputs": [
        {
          "output_type": "execute_result",
          "data": {
            "text/html": [
              "<div>\n",
              "<style scoped>\n",
              "    .dataframe tbody tr th:only-of-type {\n",
              "        vertical-align: middle;\n",
              "    }\n",
              "\n",
              "    .dataframe tbody tr th {\n",
              "        vertical-align: top;\n",
              "    }\n",
              "\n",
              "    .dataframe thead th {\n",
              "        text-align: right;\n",
              "    }\n",
              "</style>\n",
              "<table border=\"1\" class=\"dataframe\">\n",
              "  <thead>\n",
              "    <tr style=\"text-align: right;\">\n",
              "      <th></th>\n",
              "      <th>user_followers</th>\n",
              "      <th>user_friends</th>\n",
              "      <th>user_favourites</th>\n",
              "      <th>user_verified</th>\n",
              "      <th>is_retweet</th>\n",
              "    </tr>\n",
              "  </thead>\n",
              "  <tbody>\n",
              "    <tr>\n",
              "      <th>user_followers</th>\n",
              "      <td>1.000000</td>\n",
              "      <td>-0.003580</td>\n",
              "      <td>-0.029218</td>\n",
              "      <td>0.320957</td>\n",
              "      <td>NaN</td>\n",
              "    </tr>\n",
              "    <tr>\n",
              "      <th>user_friends</th>\n",
              "      <td>-0.003580</td>\n",
              "      <td>1.000000</td>\n",
              "      <td>0.201050</td>\n",
              "      <td>0.012829</td>\n",
              "      <td>NaN</td>\n",
              "    </tr>\n",
              "    <tr>\n",
              "      <th>user_favourites</th>\n",
              "      <td>-0.029218</td>\n",
              "      <td>0.201050</td>\n",
              "      <td>1.000000</td>\n",
              "      <td>-0.061141</td>\n",
              "      <td>NaN</td>\n",
              "    </tr>\n",
              "    <tr>\n",
              "      <th>user_verified</th>\n",
              "      <td>0.320957</td>\n",
              "      <td>0.012829</td>\n",
              "      <td>-0.061141</td>\n",
              "      <td>1.000000</td>\n",
              "      <td>NaN</td>\n",
              "    </tr>\n",
              "    <tr>\n",
              "      <th>is_retweet</th>\n",
              "      <td>NaN</td>\n",
              "      <td>NaN</td>\n",
              "      <td>NaN</td>\n",
              "      <td>NaN</td>\n",
              "      <td>NaN</td>\n",
              "    </tr>\n",
              "  </tbody>\n",
              "</table>\n",
              "</div>"
            ],
            "text/plain": [
              "                 user_followers  user_friends  ...  user_verified  is_retweet\n",
              "user_followers         1.000000     -0.003580  ...       0.320957         NaN\n",
              "user_friends          -0.003580      1.000000  ...       0.012829         NaN\n",
              "user_favourites       -0.029218      0.201050  ...      -0.061141         NaN\n",
              "user_verified          0.320957      0.012829  ...       1.000000         NaN\n",
              "is_retweet                  NaN           NaN  ...            NaN         NaN\n",
              "\n",
              "[5 rows x 5 columns]"
            ]
          },
          "metadata": {
            "tags": []
          },
          "execution_count": 14
        }
      ]
    },
    {
      "cell_type": "code",
      "metadata": {
        "id": "y59tDrnLaN9K",
        "colab_type": "code",
        "colab": {
          "base_uri": "https://localhost:8080/",
          "height": 753
        },
        "outputId": "0bd0afbd-dd37-4294-f73c-4d48ee0a7b3c"
      },
      "source": [
        "df.head()\n",
        "df.tail(10)"
      ],
      "execution_count": 15,
      "outputs": [
        {
          "output_type": "execute_result",
          "data": {
            "text/html": [
              "<div>\n",
              "<style scoped>\n",
              "    .dataframe tbody tr th:only-of-type {\n",
              "        vertical-align: middle;\n",
              "    }\n",
              "\n",
              "    .dataframe tbody tr th {\n",
              "        vertical-align: top;\n",
              "    }\n",
              "\n",
              "    .dataframe thead th {\n",
              "        text-align: right;\n",
              "    }\n",
              "</style>\n",
              "<table border=\"1\" class=\"dataframe\">\n",
              "  <thead>\n",
              "    <tr style=\"text-align: right;\">\n",
              "      <th></th>\n",
              "      <th>user_name</th>\n",
              "      <th>user_location</th>\n",
              "      <th>user_description</th>\n",
              "      <th>user_created</th>\n",
              "      <th>user_followers</th>\n",
              "      <th>user_friends</th>\n",
              "      <th>user_favourites</th>\n",
              "      <th>user_verified</th>\n",
              "      <th>date</th>\n",
              "      <th>text</th>\n",
              "      <th>hashtags</th>\n",
              "      <th>source</th>\n",
              "      <th>is_retweet</th>\n",
              "    </tr>\n",
              "  </thead>\n",
              "  <tbody>\n",
              "    <tr>\n",
              "      <th>179098</th>\n",
              "      <td>John Geer</td>\n",
              "      <td>NaN</td>\n",
              "      <td>#StayAtHome #StayAtHomeSaveLifes #MaskUp \\nFor...</td>\n",
              "      <td>2020-04-18 01:55:14</td>\n",
              "      <td>61</td>\n",
              "      <td>168</td>\n",
              "      <td>10817</td>\n",
              "      <td>False</td>\n",
              "      <td>2020-08-29 19:44:34</td>\n",
              "      <td>Report #COVID19 outbreaks in K-12 schools here...</td>\n",
              "      <td>['COVID19', 'CloseTheSchools', 'KeepTheSchools...</td>\n",
              "      <td>Twitter Web App</td>\n",
              "      <td>False</td>\n",
              "    </tr>\n",
              "    <tr>\n",
              "      <th>179099</th>\n",
              "      <td>amyracecar</td>\n",
              "      <td>la playa, el mar .. mi corazón</td>\n",
              "      <td>culinary wizard, auto mechanic, and botanist</td>\n",
              "      <td>2014-02-06 00:55:53</td>\n",
              "      <td>128</td>\n",
              "      <td>542</td>\n",
              "      <td>3506</td>\n",
              "      <td>False</td>\n",
              "      <td>2020-08-29 19:44:34</td>\n",
              "      <td>I have NOTHING BUT 💚 for the @NBA these days.....</td>\n",
              "      <td>['Covid19']</td>\n",
              "      <td>Twitter Web App</td>\n",
              "      <td>False</td>\n",
              "    </tr>\n",
              "    <tr>\n",
              "      <th>179100</th>\n",
              "      <td>Lori Comstock</td>\n",
              "      <td>Newton, NJ</td>\n",
              "      <td>@njherald reporter || chasing crime and coveri...</td>\n",
              "      <td>2015-05-27 16:35:15</td>\n",
              "      <td>335</td>\n",
              "      <td>44</td>\n",
              "      <td>99</td>\n",
              "      <td>False</td>\n",
              "      <td>2020-08-29 19:44:27</td>\n",
              "      <td>Wallkill school nurse adds COVID-19 monitoring...</td>\n",
              "      <td>['nurses', 'COVID19', 'coronavirus', 'schools']</td>\n",
              "      <td>SocialNewsDesk</td>\n",
              "      <td>False</td>\n",
              "    </tr>\n",
              "    <tr>\n",
              "      <th>179101</th>\n",
              "      <td>New Jersey Herald</td>\n",
              "      <td>Newton, NJ</td>\n",
              "      <td>The New Jersey Herald, a daily newspaper in Ne...</td>\n",
              "      <td>2010-01-07 18:19:37</td>\n",
              "      <td>6274</td>\n",
              "      <td>162</td>\n",
              "      <td>38</td>\n",
              "      <td>False</td>\n",
              "      <td>2020-08-29 19:44:27</td>\n",
              "      <td>Wallkill school nurse adds COVID-19 monitoring...</td>\n",
              "      <td>['nurses', 'COVID19', 'coronavirus', 'schools']</td>\n",
              "      <td>SocialNewsDesk</td>\n",
              "      <td>False</td>\n",
              "    </tr>\n",
              "    <tr>\n",
              "      <th>179102</th>\n",
              "      <td>Pris</td>\n",
              "      <td>T.O.</td>\n",
              "      <td>A/V/L Techie, camera op. but twitter has becom...</td>\n",
              "      <td>2008-12-31 16:16:12</td>\n",
              "      <td>251</td>\n",
              "      <td>160</td>\n",
              "      <td>627</td>\n",
              "      <td>False</td>\n",
              "      <td>2020-08-29 19:44:23</td>\n",
              "      <td>we have reached 25mil cases of #covid19, world...</td>\n",
              "      <td>['covid19']</td>\n",
              "      <td>Twitter Web App</td>\n",
              "      <td>False</td>\n",
              "    </tr>\n",
              "    <tr>\n",
              "      <th>179103</th>\n",
              "      <td>AJIMATI AbdulRahman O.</td>\n",
              "      <td>Ilorin, Nigeria</td>\n",
              "      <td>Animal Scientist|| Muslim|| Real Madrid/Chelsea</td>\n",
              "      <td>2013-12-30 18:59:19</td>\n",
              "      <td>412</td>\n",
              "      <td>1609</td>\n",
              "      <td>1062</td>\n",
              "      <td>False</td>\n",
              "      <td>2020-08-29 19:44:21</td>\n",
              "      <td>Thanks @IamOhmai for nominating me for the @WH...</td>\n",
              "      <td>['WearAMask']</td>\n",
              "      <td>Twitter for Android</td>\n",
              "      <td>False</td>\n",
              "    </tr>\n",
              "    <tr>\n",
              "      <th>179104</th>\n",
              "      <td>Jason</td>\n",
              "      <td>Ontario</td>\n",
              "      <td>When your cat has more baking soda than Ninja ...</td>\n",
              "      <td>2011-12-21 04:41:30</td>\n",
              "      <td>150</td>\n",
              "      <td>182</td>\n",
              "      <td>7295</td>\n",
              "      <td>False</td>\n",
              "      <td>2020-08-29 19:44:16</td>\n",
              "      <td>2020! The year of insanity! Lol! #COVID19 http...</td>\n",
              "      <td>['COVID19']</td>\n",
              "      <td>Twitter for Android</td>\n",
              "      <td>False</td>\n",
              "    </tr>\n",
              "    <tr>\n",
              "      <th>179105</th>\n",
              "      <td>BEEHEMOTH ⏳</td>\n",
              "      <td>🇨🇦 Canada</td>\n",
              "      <td>⚒️ The Architects of Free Trade ⚒️ Really Did ...</td>\n",
              "      <td>2016-07-13 17:21:59</td>\n",
              "      <td>1623</td>\n",
              "      <td>2160</td>\n",
              "      <td>98000</td>\n",
              "      <td>False</td>\n",
              "      <td>2020-08-29 19:44:15</td>\n",
              "      <td>@CTVNews A powerful painting by Juan Lucena. I...</td>\n",
              "      <td>NaN</td>\n",
              "      <td>Twitter Web App</td>\n",
              "      <td>False</td>\n",
              "    </tr>\n",
              "    <tr>\n",
              "      <th>179106</th>\n",
              "      <td>Gary DelPonte</td>\n",
              "      <td>New York City</td>\n",
              "      <td>Global UX UI Visual Designer. StoryTeller, Mus...</td>\n",
              "      <td>2009-10-27 17:43:13</td>\n",
              "      <td>1338</td>\n",
              "      <td>1111</td>\n",
              "      <td>0</td>\n",
              "      <td>False</td>\n",
              "      <td>2020-08-29 19:44:14</td>\n",
              "      <td>More than 1,200 students test positive for #CO...</td>\n",
              "      <td>['COVID19']</td>\n",
              "      <td>Twitter for iPhone</td>\n",
              "      <td>False</td>\n",
              "    </tr>\n",
              "    <tr>\n",
              "      <th>179107</th>\n",
              "      <td>TUKY II</td>\n",
              "      <td>Aliwal North, South Africa</td>\n",
              "      <td>TOKELO SEKHOPA | TUKY II | LAST BORN | EISH TU...</td>\n",
              "      <td>2018-04-14 17:30:07</td>\n",
              "      <td>97</td>\n",
              "      <td>1697</td>\n",
              "      <td>566</td>\n",
              "      <td>False</td>\n",
              "      <td>2020-08-29 19:44:08</td>\n",
              "      <td>I stop when I see a Stop\\n\\n@SABCNews\\n@Izinda...</td>\n",
              "      <td>NaN</td>\n",
              "      <td>Twitter for Android</td>\n",
              "      <td>False</td>\n",
              "    </tr>\n",
              "  </tbody>\n",
              "</table>\n",
              "</div>"
            ],
            "text/plain": [
              "                     user_name  ... is_retweet\n",
              "179098               John Geer  ...      False\n",
              "179099              amyracecar  ...      False\n",
              "179100           Lori Comstock  ...      False\n",
              "179101       New Jersey Herald  ...      False\n",
              "179102                    Pris  ...      False\n",
              "179103  AJIMATI AbdulRahman O.  ...      False\n",
              "179104                   Jason  ...      False\n",
              "179105             BEEHEMOTH ⏳  ...      False\n",
              "179106           Gary DelPonte  ...      False\n",
              "179107                 TUKY II  ...      False\n",
              "\n",
              "[10 rows x 13 columns]"
            ]
          },
          "metadata": {
            "tags": []
          },
          "execution_count": 15
        }
      ]
    },
    {
      "cell_type": "code",
      "metadata": {
        "id": "4e3qEUq3bPcS",
        "colab_type": "code",
        "colab": {}
      },
      "source": [
        "import numpy as np"
      ],
      "execution_count": 16,
      "outputs": []
    },
    {
      "cell_type": "code",
      "metadata": {
        "id": "nW-2HiRZbRg2",
        "colab_type": "code",
        "colab": {
          "base_uri": "https://localhost:8080/",
          "height": 71
        },
        "outputId": "c7653867-9869-412e-8969-a5d42d3d6232"
      },
      "source": [
        "import matplotlib.pyplot as plt\n",
        "import seaborn as sns\n",
        "%matplotlib inline "
      ],
      "execution_count": 17,
      "outputs": [
        {
          "output_type": "stream",
          "text": [
            "/usr/local/lib/python3.6/dist-packages/statsmodels/tools/_testing.py:19: FutureWarning: pandas.util.testing is deprecated. Use the functions in the public API at pandas.testing instead.\n",
            "  import pandas.util.testing as tm\n"
          ],
          "name": "stderr"
        }
      ]
    },
    {
      "cell_type": "code",
      "metadata": {
        "id": "929MBAY4bUDR",
        "colab_type": "code",
        "colab": {
          "base_uri": "https://localhost:8080/",
          "height": 301
        },
        "outputId": "2dc3d13e-1be6-4487-9f72-befc4c47995d"
      },
      "source": [
        "sns.regplot(x=\"user_followers\", y=\"user_verified\", data=df)\n",
        "plt.ylim(0,)"
      ],
      "execution_count": 23,
      "outputs": [
        {
          "output_type": "execute_result",
          "data": {
            "text/plain": [
              "(0.0, 7.009579941978313)"
            ]
          },
          "metadata": {
            "tags": []
          },
          "execution_count": 23
        },
        {
          "output_type": "display_data",
          "data": {
            "image/png": "[encoded data removed]",
            "text/plain": [
              "<Figure size 432x288 with 1 Axes>"
            ]
          },
          "metadata": {
            "tags": [],
            "needs_background": "light"
          }
        }
      ]
    },
    {
      "cell_type": "code",
      "metadata": {
        "id": "SbMh7-cPdTqr",
        "colab_type": "code",
        "colab": {
          "base_uri": "https://localhost:8080/",
          "height": 301
        },
        "outputId": "8cdea1df-f146-4836-803e-8db09f540534"
      },
      "source": [
        "sns.regplot(x=\"user_followers\", y=\"user_verified\", data=df)"
      ],
      "execution_count": 24,
      "outputs": [
        {
          "output_type": "execute_result",
          "data": {
            "text/plain": [
              "<matplotlib.axes._subplots.AxesSubplot at 0x7fad2c6e98d0>"
            ]
          },
          "metadata": {
            "tags": []
          },
          "execution_count": 24
        },
        {
          "output_type": "display_data",
          "data": {
            "image/png": "[encoded data removed]",
            "text/plain": [
              "<Figure size 432x288 with 1 Axes>"
            ]
          },
          "metadata": {
            "tags": [],
            "needs_background": "light"
          }
        }
      ]
    },
    {
      "cell_type": "code",
      "metadata": {
        "id": "jmNVEANFeEiu",
        "colab_type": "code",
        "colab": {
          "base_uri": "https://localhost:8080/",
          "height": 308
        },
        "outputId": "048204ec-4ae6-4179-f2f8-75f30a7fa0d4"
      },
      "source": [
        "sns.regplot(x=\"user_friends\", y=\"user_favourites\", data=df)\n",
        "plt.ylim(0,)"
      ],
      "execution_count": 26,
      "outputs": [
        {
          "output_type": "execute_result",
          "data": {
            "text/plain": [
              "(0.0, 2149556.85)"
            ]
          },
          "metadata": {
            "tags": []
          },
          "execution_count": 26
        },
        {
          "output_type": "display_data",
          "data": {
            "image/png": "[encoded data removed]",
            "text/plain": [
              "<Figure size 432x288 with 1 Axes>"
            ]
          },
          "metadata": {
            "tags": [],
            "needs_background": "light"
          }
        }
      ]
    },
    {
      "cell_type": "code",
      "metadata": {
        "id": "SigSeatmepo6",
        "colab_type": "code",
        "colab": {
          "base_uri": "https://localhost:8080/",
          "height": 297
        },
        "outputId": "1bf3166a-1662-4f4b-ea8e-3a7f6eb21f2b"
      },
      "source": [
        "df.describe()"
      ],
      "execution_count": 27,
      "outputs": [
        {
          "output_type": "execute_result",
          "data": {
            "text/html": [
              "<div>\n",
              "<style scoped>\n",
              "    .dataframe tbody tr th:only-of-type {\n",
              "        vertical-align: middle;\n",
              "    }\n",
              "\n",
              "    .dataframe tbody tr th {\n",
              "        vertical-align: top;\n",
              "    }\n",
              "\n",
              "    .dataframe thead th {\n",
              "        text-align: right;\n",
              "    }\n",
              "</style>\n",
              "<table border=\"1\" class=\"dataframe\">\n",
              "  <thead>\n",
              "    <tr style=\"text-align: right;\">\n",
              "      <th></th>\n",
              "      <th>user_followers</th>\n",
              "      <th>user_friends</th>\n",
              "      <th>user_favourites</th>\n",
              "    </tr>\n",
              "  </thead>\n",
              "  <tbody>\n",
              "    <tr>\n",
              "      <th>count</th>\n",
              "      <td>1.791080e+05</td>\n",
              "      <td>179108.000000</td>\n",
              "      <td>1.791080e+05</td>\n",
              "    </tr>\n",
              "    <tr>\n",
              "      <th>mean</th>\n",
              "      <td>1.090555e+05</td>\n",
              "      <td>2121.701566</td>\n",
              "      <td>1.444411e+04</td>\n",
              "    </tr>\n",
              "    <tr>\n",
              "      <th>std</th>\n",
              "      <td>8.414670e+05</td>\n",
              "      <td>9162.553072</td>\n",
              "      <td>4.452270e+04</td>\n",
              "    </tr>\n",
              "    <tr>\n",
              "      <th>min</th>\n",
              "      <td>0.000000e+00</td>\n",
              "      <td>0.000000</td>\n",
              "      <td>0.000000e+00</td>\n",
              "    </tr>\n",
              "    <tr>\n",
              "      <th>25%</th>\n",
              "      <td>1.720000e+02</td>\n",
              "      <td>148.000000</td>\n",
              "      <td>2.060000e+02</td>\n",
              "    </tr>\n",
              "    <tr>\n",
              "      <th>50%</th>\n",
              "      <td>9.920000e+02</td>\n",
              "      <td>542.000000</td>\n",
              "      <td>1.791000e+03</td>\n",
              "    </tr>\n",
              "    <tr>\n",
              "      <th>75%</th>\n",
              "      <td>5.284000e+03</td>\n",
              "      <td>1725.250000</td>\n",
              "      <td>9.388000e+03</td>\n",
              "    </tr>\n",
              "    <tr>\n",
              "      <th>max</th>\n",
              "      <td>4.944256e+07</td>\n",
              "      <td>497363.000000</td>\n",
              "      <td>2.047197e+06</td>\n",
              "    </tr>\n",
              "  </tbody>\n",
              "</table>\n",
              "</div>"
            ],
            "text/plain": [
              "       user_followers   user_friends  user_favourites\n",
              "count    1.791080e+05  179108.000000     1.791080e+05\n",
              "mean     1.090555e+05    2121.701566     1.444411e+04\n",
              "std      8.414670e+05    9162.553072     4.452270e+04\n",
              "min      0.000000e+00       0.000000     0.000000e+00\n",
              "25%      1.720000e+02     148.000000     2.060000e+02\n",
              "50%      9.920000e+02     542.000000     1.791000e+03\n",
              "75%      5.284000e+03    1725.250000     9.388000e+03\n",
              "max      4.944256e+07  497363.000000     2.047197e+06"
            ]
          },
          "metadata": {
            "tags": []
          },
          "execution_count": 27
        }
      ]
    },
    {
      "cell_type": "code",
      "metadata": {
        "id": "T5vafkVver9e",
        "colab_type": "code",
        "colab": {
          "base_uri": "https://localhost:8080/",
          "height": 190
        },
        "outputId": "5dcb13d7-86a7-485b-d5e5-b8125bc47c0e"
      },
      "source": [
        "df.describe(include=['object'])"
      ],
      "execution_count": 28,
      "outputs": [
        {
          "output_type": "execute_result",
          "data": {
            "text/html": [
              "<div>\n",
              "<style scoped>\n",
              "    .dataframe tbody tr th:only-of-type {\n",
              "        vertical-align: middle;\n",
              "    }\n",
              "\n",
              "    .dataframe tbody tr th {\n",
              "        vertical-align: top;\n",
              "    }\n",
              "\n",
              "    .dataframe thead th {\n",
              "        text-align: right;\n",
              "    }\n",
              "</style>\n",
              "<table border=\"1\" class=\"dataframe\">\n",
              "  <thead>\n",
              "    <tr style=\"text-align: right;\">\n",
              "      <th></th>\n",
              "      <th>user_name</th>\n",
              "      <th>user_location</th>\n",
              "      <th>user_description</th>\n",
              "      <th>user_created</th>\n",
              "      <th>date</th>\n",
              "      <th>text</th>\n",
              "      <th>hashtags</th>\n",
              "      <th>source</th>\n",
              "    </tr>\n",
              "  </thead>\n",
              "  <tbody>\n",
              "    <tr>\n",
              "      <th>count</th>\n",
              "      <td>179108</td>\n",
              "      <td>142337</td>\n",
              "      <td>168822</td>\n",
              "      <td>179108</td>\n",
              "      <td>179108</td>\n",
              "      <td>179108</td>\n",
              "      <td>127774</td>\n",
              "      <td>179031</td>\n",
              "    </tr>\n",
              "    <tr>\n",
              "      <th>unique</th>\n",
              "      <td>92276</td>\n",
              "      <td>26920</td>\n",
              "      <td>89200</td>\n",
              "      <td>93708</td>\n",
              "      <td>136611</td>\n",
              "      <td>178683</td>\n",
              "      <td>52640</td>\n",
              "      <td>610</td>\n",
              "    </tr>\n",
              "    <tr>\n",
              "      <th>top</th>\n",
              "      <td>GlobalPandemic.NET</td>\n",
              "      <td>India</td>\n",
              "      <td>Breaking News &amp; Critical Information to SURVIV...</td>\n",
              "      <td>2010-07-13 21:58:05</td>\n",
              "      <td>2020-08-06 16:00:00</td>\n",
              "      <td>The incompetence of this administration, and t...</td>\n",
              "      <td>['COVID19']</td>\n",
              "      <td>Twitter Web App</td>\n",
              "    </tr>\n",
              "    <tr>\n",
              "      <th>freq</th>\n",
              "      <td>679</td>\n",
              "      <td>3741</td>\n",
              "      <td>679</td>\n",
              "      <td>679</td>\n",
              "      <td>26</td>\n",
              "      <td>13</td>\n",
              "      <td>37792</td>\n",
              "      <td>56891</td>\n",
              "    </tr>\n",
              "  </tbody>\n",
              "</table>\n",
              "</div>"
            ],
            "text/plain": [
              "                 user_name user_location  ...     hashtags           source\n",
              "count               179108        142337  ...       127774           179031\n",
              "unique               92276         26920  ...        52640              610\n",
              "top     GlobalPandemic.NET         India  ...  ['COVID19']  Twitter Web App\n",
              "freq                   679          3741  ...        37792            56891\n",
              "\n",
              "[4 rows x 8 columns]"
            ]
          },
          "metadata": {
            "tags": []
          },
          "execution_count": 28
        }
      ]
    },
    {
      "cell_type": "code",
      "metadata": {
        "id": "eMOiX_WNexOd",
        "colab_type": "code",
        "colab": {
          "base_uri": "https://localhost:8080/",
          "height": 221
        },
        "outputId": "0c86a821-9770-4e10-c7db-23e5dbfdd7f1"
      },
      "source": [
        "df['hashtags'].value_counts()"
      ],
      "execution_count": 29,
      "outputs": [
        {
          "output_type": "execute_result",
          "data": {
            "text/plain": [
              "['COVID19']                                                               37792\n",
              "['Covid19']                                                                4834\n",
              "['covid19']                                                                3124\n",
              "['coronavirus', 'CoronaVirusUpdate', 'COVID19', 'CoronavirusPandemic']      624\n",
              "['coronavirus']                                                             550\n",
              "                                                                          ...  \n",
              "['Movie', 'Clips', 'Covid19', 'Pandemic', 'Anonymous']                        1\n",
              "['Panorama', 'COVID__19', 'COVID19']                                          1\n",
              "['COVID19Ontario']                                                            1\n",
              "['covid19', 'coronavirus', 'socialmedia', 'musemedia']                        1\n",
              "['Covidioten', 'COVID19']                                                     1\n",
              "Name: hashtags, Length: 52640, dtype: int64"
            ]
          },
          "metadata": {
            "tags": []
          },
          "execution_count": 29
        }
      ]
    },
    {
      "cell_type": "code",
      "metadata": {
        "id": "rP1AAQmsfBo0",
        "colab_type": "code",
        "colab": {
          "base_uri": "https://localhost:8080/",
          "height": 419
        },
        "outputId": "dfebb709-690b-4ae8-ed72-4d4a3cfa3ed0"
      },
      "source": [
        "df['hashtags'].value_counts().to_frame()"
      ],
      "execution_count": 30,
      "outputs": [
        {
          "output_type": "execute_result",
          "data": {
            "text/html": [
              "<div>\n",
              "<style scoped>\n",
              "    .dataframe tbody tr th:only-of-type {\n",
              "        vertical-align: middle;\n",
              "    }\n",
              "\n",
              "    .dataframe tbody tr th {\n",
              "        vertical-align: top;\n",
              "    }\n",
              "\n",
              "    .dataframe thead th {\n",
              "        text-align: right;\n",
              "    }\n",
              "</style>\n",
              "<table border=\"1\" class=\"dataframe\">\n",
              "  <thead>\n",
              "    <tr style=\"text-align: right;\">\n",
              "      <th></th>\n",
              "      <th>hashtags</th>\n",
              "    </tr>\n",
              "  </thead>\n",
              "  <tbody>\n",
              "    <tr>\n",
              "      <th>['COVID19']</th>\n",
              "      <td>37792</td>\n",
              "    </tr>\n",
              "    <tr>\n",
              "      <th>['Covid19']</th>\n",
              "      <td>4834</td>\n",
              "    </tr>\n",
              "    <tr>\n",
              "      <th>['covid19']</th>\n",
              "      <td>3124</td>\n",
              "    </tr>\n",
              "    <tr>\n",
              "      <th>['coronavirus', 'CoronaVirusUpdate', 'COVID19', 'CoronavirusPandemic']</th>\n",
              "      <td>624</td>\n",
              "    </tr>\n",
              "    <tr>\n",
              "      <th>['coronavirus']</th>\n",
              "      <td>550</td>\n",
              "    </tr>\n",
              "    <tr>\n",
              "      <th>...</th>\n",
              "      <td>...</td>\n",
              "    </tr>\n",
              "    <tr>\n",
              "      <th>['Movie', 'Clips', 'Covid19', 'Pandemic', 'Anonymous']</th>\n",
              "      <td>1</td>\n",
              "    </tr>\n",
              "    <tr>\n",
              "      <th>['Panorama', 'COVID__19', 'COVID19']</th>\n",
              "      <td>1</td>\n",
              "    </tr>\n",
              "    <tr>\n",
              "      <th>['COVID19Ontario']</th>\n",
              "      <td>1</td>\n",
              "    </tr>\n",
              "    <tr>\n",
              "      <th>['covid19', 'coronavirus', 'socialmedia', 'musemedia']</th>\n",
              "      <td>1</td>\n",
              "    </tr>\n",
              "    <tr>\n",
              "      <th>['Covidioten', 'COVID19']</th>\n",
              "      <td>1</td>\n",
              "    </tr>\n",
              "  </tbody>\n",
              "</table>\n",
              "<p>52640 rows × 1 columns</p>\n",
              "</div>"
            ],
            "text/plain": [
              "                                                    hashtags\n",
              "['COVID19']                                            37792\n",
              "['Covid19']                                             4834\n",
              "['covid19']                                             3124\n",
              "['coronavirus', 'CoronaVirusUpdate', 'COVID19',...       624\n",
              "['coronavirus']                                          550\n",
              "...                                                      ...\n",
              "['Movie', 'Clips', 'Covid19', 'Pandemic', 'Anon...         1\n",
              "['Panorama', 'COVID__19', 'COVID19']                       1\n",
              "['COVID19Ontario']                                         1\n",
              "['covid19', 'coronavirus', 'socialmedia', 'muse...         1\n",
              "['Covidioten', 'COVID19']                                  1\n",
              "\n",
              "[52640 rows x 1 columns]"
            ]
          },
          "metadata": {
            "tags": []
          },
          "execution_count": 30
        }
      ]
    },
    {
      "cell_type": "code",
      "metadata": {
        "id": "OF_xTE3afS9U",
        "colab_type": "code",
        "colab": {
          "base_uri": "https://localhost:8080/",
          "height": 419
        },
        "outputId": "fa87728c-669a-40b3-c8ca-2e9d8189a8f4"
      },
      "source": [
        "df_group_one = df[['hashtags','user_friends','user_favourites']]\n",
        "df_group_one = df_group_one.groupby(['hashtags'],as_index=False).mean()\n",
        "df_group_one"
      ],
      "execution_count": 35,
      "outputs": [
        {
          "output_type": "execute_result",
          "data": {
            "text/html": [
              "<div>\n",
              "<style scoped>\n",
              "    .dataframe tbody tr th:only-of-type {\n",
              "        vertical-align: middle;\n",
              "    }\n",
              "\n",
              "    .dataframe tbody tr th {\n",
              "        vertical-align: top;\n",
              "    }\n",
              "\n",
              "    .dataframe thead th {\n",
              "        text-align: right;\n",
              "    }\n",
              "</style>\n",
              "<table border=\"1\" class=\"dataframe\">\n",
              "  <thead>\n",
              "    <tr style=\"text-align: right;\">\n",
              "      <th></th>\n",
              "      <th>hashtags</th>\n",
              "      <th>user_friends</th>\n",
              "      <th>user_favourites</th>\n",
              "    </tr>\n",
              "  </thead>\n",
              "  <tbody>\n",
              "    <tr>\n",
              "      <th>0</th>\n",
              "      <td>['1000USdeathsperday', 'realDonaldTrump', 'cov...</td>\n",
              "      <td>121.0</td>\n",
              "      <td>352.0</td>\n",
              "    </tr>\n",
              "    <tr>\n",
              "      <th>1</th>\n",
              "      <td>['100Days', 'COVID19', 'LawAndOrder', 'economy']</td>\n",
              "      <td>22437.0</td>\n",
              "      <td>15357.0</td>\n",
              "    </tr>\n",
              "    <tr>\n",
              "      <th>2</th>\n",
              "      <td>['100Days', 'COVID19', 'TeamBiden']</td>\n",
              "      <td>330.0</td>\n",
              "      <td>10678.0</td>\n",
              "    </tr>\n",
              "    <tr>\n",
              "      <th>3</th>\n",
              "      <td>['100Days', 'COVID19', 'coronavirus']</td>\n",
              "      <td>394.0</td>\n",
              "      <td>18171.0</td>\n",
              "    </tr>\n",
              "    <tr>\n",
              "      <th>4</th>\n",
              "      <td>['100Days', 'COVID19']</td>\n",
              "      <td>19391.0</td>\n",
              "      <td>86902.0</td>\n",
              "    </tr>\n",
              "    <tr>\n",
              "      <th>...</th>\n",
              "      <td>...</td>\n",
              "      <td>...</td>\n",
              "      <td>...</td>\n",
              "    </tr>\n",
              "    <tr>\n",
              "      <th>52635</th>\n",
              "      <td>['𝓒𝓞𝓥𝓘𝓓19']</td>\n",
              "      <td>539.0</td>\n",
              "      <td>11050.0</td>\n",
              "    </tr>\n",
              "    <tr>\n",
              "      <th>52636</th>\n",
              "      <td>['𝗖𝗼𝘃𝗶𝗱19', 'Mumbai']</td>\n",
              "      <td>30.0</td>\n",
              "      <td>12946.0</td>\n",
              "    </tr>\n",
              "    <tr>\n",
              "      <th>52637</th>\n",
              "      <td>['𝗖𝗼𝘃𝗶𝗱19']</td>\n",
              "      <td>30.0</td>\n",
              "      <td>12713.0</td>\n",
              "    </tr>\n",
              "    <tr>\n",
              "      <th>52638</th>\n",
              "      <td>['𝗪𝗔𝗦𝗛']</td>\n",
              "      <td>311.0</td>\n",
              "      <td>316.0</td>\n",
              "    </tr>\n",
              "    <tr>\n",
              "      <th>52639</th>\n",
              "      <td>['𝗳𝗲𝗲𝗱𝗶𝗻𝗴𝟭𝗺']</td>\n",
              "      <td>18.0</td>\n",
              "      <td>4.0</td>\n",
              "    </tr>\n",
              "  </tbody>\n",
              "</table>\n",
              "<p>52640 rows × 3 columns</p>\n",
              "</div>"
            ],
            "text/plain": [
              "                                                hashtags  ...  user_favourites\n",
              "0      ['1000USdeathsperday', 'realDonaldTrump', 'cov...  ...            352.0\n",
              "1       ['100Days', 'COVID19', 'LawAndOrder', 'economy']  ...          15357.0\n",
              "2                    ['100Days', 'COVID19', 'TeamBiden']  ...          10678.0\n",
              "3                  ['100Days', 'COVID19', 'coronavirus']  ...          18171.0\n",
              "4                                 ['100Days', 'COVID19']  ...          86902.0\n",
              "...                                                  ...  ...              ...\n",
              "52635                                        ['𝓒𝓞𝓥𝓘𝓓19']  ...          11050.0\n",
              "52636                              ['𝗖𝗼𝘃𝗶𝗱19', 'Mumbai']  ...          12946.0\n",
              "52637                                        ['𝗖𝗼𝘃𝗶𝗱19']  ...          12713.0\n",
              "52638                                           ['𝗪𝗔𝗦𝗛']  ...            316.0\n",
              "52639                                      ['𝗳𝗲𝗲𝗱𝗶𝗻𝗴𝟭𝗺']  ...              4.0\n",
              "\n",
              "[52640 rows x 3 columns]"
            ]
          },
          "metadata": {
            "tags": []
          },
          "execution_count": 35
        }
      ]
    },
    {
      "cell_type": "code",
      "metadata": {
        "id": "uKXDBrgwha83",
        "colab_type": "code",
        "colab": {
          "base_uri": "https://localhost:8080/",
          "height": 419
        },
        "outputId": "274378e5-298a-4950-c02a-78fb3475faee"
      },
      "source": [
        "# grouping results\n",
        "df_gptest = df[['hashtags','user_friends','user_favourites']]\n",
        "grouped_test1 = df_gptest.groupby(['hashtags','user_favourites'],as_index=False).mean()\n",
        "grouped_test1"
      ],
      "execution_count": 37,
      "outputs": [
        {
          "output_type": "execute_result",
          "data": {
            "text/html": [
              "<div>\n",
              "<style scoped>\n",
              "    .dataframe tbody tr th:only-of-type {\n",
              "        vertical-align: middle;\n",
              "    }\n",
              "\n",
              "    .dataframe tbody tr th {\n",
              "        vertical-align: top;\n",
              "    }\n",
              "\n",
              "    .dataframe thead th {\n",
              "        text-align: right;\n",
              "    }\n",
              "</style>\n",
              "<table border=\"1\" class=\"dataframe\">\n",
              "  <thead>\n",
              "    <tr style=\"text-align: right;\">\n",
              "      <th></th>\n",
              "      <th>hashtags</th>\n",
              "      <th>user_favourites</th>\n",
              "      <th>user_friends</th>\n",
              "    </tr>\n",
              "  </thead>\n",
              "  <tbody>\n",
              "    <tr>\n",
              "      <th>0</th>\n",
              "      <td>['1000USdeathsperday', 'realDonaldTrump', 'cov...</td>\n",
              "      <td>352</td>\n",
              "      <td>121.0</td>\n",
              "    </tr>\n",
              "    <tr>\n",
              "      <th>1</th>\n",
              "      <td>['100Days', 'COVID19', 'LawAndOrder', 'economy']</td>\n",
              "      <td>15357</td>\n",
              "      <td>22437.0</td>\n",
              "    </tr>\n",
              "    <tr>\n",
              "      <th>2</th>\n",
              "      <td>['100Days', 'COVID19', 'TeamBiden']</td>\n",
              "      <td>10678</td>\n",
              "      <td>330.0</td>\n",
              "    </tr>\n",
              "    <tr>\n",
              "      <th>3</th>\n",
              "      <td>['100Days', 'COVID19', 'coronavirus']</td>\n",
              "      <td>18171</td>\n",
              "      <td>394.0</td>\n",
              "    </tr>\n",
              "    <tr>\n",
              "      <th>4</th>\n",
              "      <td>['100Days', 'COVID19']</td>\n",
              "      <td>86902</td>\n",
              "      <td>19391.0</td>\n",
              "    </tr>\n",
              "    <tr>\n",
              "      <th>...</th>\n",
              "      <td>...</td>\n",
              "      <td>...</td>\n",
              "      <td>...</td>\n",
              "    </tr>\n",
              "    <tr>\n",
              "      <th>94290</th>\n",
              "      <td>['𝗖𝗼𝘃𝗶𝗱19', 'Mumbai']</td>\n",
              "      <td>12801</td>\n",
              "      <td>30.0</td>\n",
              "    </tr>\n",
              "    <tr>\n",
              "      <th>94291</th>\n",
              "      <td>['𝗖𝗼𝘃𝗶𝗱19', 'Mumbai']</td>\n",
              "      <td>13091</td>\n",
              "      <td>30.0</td>\n",
              "    </tr>\n",
              "    <tr>\n",
              "      <th>94292</th>\n",
              "      <td>['𝗖𝗼𝘃𝗶𝗱19']</td>\n",
              "      <td>12713</td>\n",
              "      <td>30.0</td>\n",
              "    </tr>\n",
              "    <tr>\n",
              "      <th>94293</th>\n",
              "      <td>['𝗪𝗔𝗦𝗛']</td>\n",
              "      <td>316</td>\n",
              "      <td>311.0</td>\n",
              "    </tr>\n",
              "    <tr>\n",
              "      <th>94294</th>\n",
              "      <td>['𝗳𝗲𝗲𝗱𝗶𝗻𝗴𝟭𝗺']</td>\n",
              "      <td>4</td>\n",
              "      <td>18.0</td>\n",
              "    </tr>\n",
              "  </tbody>\n",
              "</table>\n",
              "<p>94295 rows × 3 columns</p>\n",
              "</div>"
            ],
            "text/plain": [
              "                                                hashtags  ...  user_friends\n",
              "0      ['1000USdeathsperday', 'realDonaldTrump', 'cov...  ...         121.0\n",
              "1       ['100Days', 'COVID19', 'LawAndOrder', 'economy']  ...       22437.0\n",
              "2                    ['100Days', 'COVID19', 'TeamBiden']  ...         330.0\n",
              "3                  ['100Days', 'COVID19', 'coronavirus']  ...         394.0\n",
              "4                                 ['100Days', 'COVID19']  ...       19391.0\n",
              "...                                                  ...  ...           ...\n",
              "94290                              ['𝗖𝗼𝘃𝗶𝗱19', 'Mumbai']  ...          30.0\n",
              "94291                              ['𝗖𝗼𝘃𝗶𝗱19', 'Mumbai']  ...          30.0\n",
              "94292                                        ['𝗖𝗼𝘃𝗶𝗱19']  ...          30.0\n",
              "94293                                           ['𝗪𝗔𝗦𝗛']  ...         311.0\n",
              "94294                                      ['𝗳𝗲𝗲𝗱𝗶𝗻𝗴𝟭𝗺']  ...          18.0\n",
              "\n",
              "[94295 rows x 3 columns]"
            ]
          },
          "metadata": {
            "tags": []
          },
          "execution_count": 37
        }
      ]
    },
    {
      "cell_type": "code",
      "metadata": {
        "id": "lB73p6nUgNnJ",
        "colab_type": "code",
        "colab": {
          "base_uri": "https://localhost:8080/",
          "height": 224
        },
        "outputId": "3b5c243b-8f8c-4671-b46a-797238b88c57"
      },
      "source": [
        "missing_data = df.isnull()\n",
        "missing_data.head(5)"
      ],
      "execution_count": 38,
      "outputs": [
        {
          "output_type": "execute_result",
          "data": {
            "text/html": [
              "<div>\n",
              "<style scoped>\n",
              "    .dataframe tbody tr th:only-of-type {\n",
              "        vertical-align: middle;\n",
              "    }\n",
              "\n",
              "    .dataframe tbody tr th {\n",
              "        vertical-align: top;\n",
              "    }\n",
              "\n",
              "    .dataframe thead th {\n",
              "        text-align: right;\n",
              "    }\n",
              "</style>\n",
              "<table border=\"1\" class=\"dataframe\">\n",
              "  <thead>\n",
              "    <tr style=\"text-align: right;\">\n",
              "      <th></th>\n",
              "      <th>user_name</th>\n",
              "      <th>user_location</th>\n",
              "      <th>user_description</th>\n",
              "      <th>user_created</th>\n",
              "      <th>user_followers</th>\n",
              "      <th>user_friends</th>\n",
              "      <th>user_favourites</th>\n",
              "      <th>user_verified</th>\n",
              "      <th>date</th>\n",
              "      <th>text</th>\n",
              "      <th>hashtags</th>\n",
              "      <th>source</th>\n",
              "      <th>is_retweet</th>\n",
              "    </tr>\n",
              "  </thead>\n",
              "  <tbody>\n",
              "    <tr>\n",
              "      <th>0</th>\n",
              "      <td>False</td>\n",
              "      <td>False</td>\n",
              "      <td>False</td>\n",
              "      <td>False</td>\n",
              "      <td>False</td>\n",
              "      <td>False</td>\n",
              "      <td>False</td>\n",
              "      <td>False</td>\n",
              "      <td>False</td>\n",
              "      <td>False</td>\n",
              "      <td>True</td>\n",
              "      <td>False</td>\n",
              "      <td>False</td>\n",
              "    </tr>\n",
              "    <tr>\n",
              "      <th>1</th>\n",
              "      <td>False</td>\n",
              "      <td>False</td>\n",
              "      <td>False</td>\n",
              "      <td>False</td>\n",
              "      <td>False</td>\n",
              "      <td>False</td>\n",
              "      <td>False</td>\n",
              "      <td>False</td>\n",
              "      <td>False</td>\n",
              "      <td>False</td>\n",
              "      <td>True</td>\n",
              "      <td>False</td>\n",
              "      <td>False</td>\n",
              "    </tr>\n",
              "    <tr>\n",
              "      <th>2</th>\n",
              "      <td>False</td>\n",
              "      <td>False</td>\n",
              "      <td>False</td>\n",
              "      <td>False</td>\n",
              "      <td>False</td>\n",
              "      <td>False</td>\n",
              "      <td>False</td>\n",
              "      <td>False</td>\n",
              "      <td>False</td>\n",
              "      <td>False</td>\n",
              "      <td>False</td>\n",
              "      <td>False</td>\n",
              "      <td>False</td>\n",
              "    </tr>\n",
              "    <tr>\n",
              "      <th>3</th>\n",
              "      <td>False</td>\n",
              "      <td>False</td>\n",
              "      <td>False</td>\n",
              "      <td>False</td>\n",
              "      <td>False</td>\n",
              "      <td>False</td>\n",
              "      <td>False</td>\n",
              "      <td>False</td>\n",
              "      <td>False</td>\n",
              "      <td>False</td>\n",
              "      <td>False</td>\n",
              "      <td>False</td>\n",
              "      <td>False</td>\n",
              "    </tr>\n",
              "    <tr>\n",
              "      <th>4</th>\n",
              "      <td>False</td>\n",
              "      <td>False</td>\n",
              "      <td>False</td>\n",
              "      <td>False</td>\n",
              "      <td>False</td>\n",
              "      <td>False</td>\n",
              "      <td>False</td>\n",
              "      <td>False</td>\n",
              "      <td>False</td>\n",
              "      <td>False</td>\n",
              "      <td>False</td>\n",
              "      <td>False</td>\n",
              "      <td>False</td>\n",
              "    </tr>\n",
              "  </tbody>\n",
              "</table>\n",
              "</div>"
            ],
            "text/plain": [
              "   user_name  user_location  user_description  ...  hashtags  source  is_retweet\n",
              "0      False          False             False  ...      True   False       False\n",
              "1      False          False             False  ...      True   False       False\n",
              "2      False          False             False  ...     False   False       False\n",
              "3      False          False             False  ...     False   False       False\n",
              "4      False          False             False  ...     False   False       False\n",
              "\n",
              "[5 rows x 13 columns]"
            ]
          },
          "metadata": {
            "tags": []
          },
          "execution_count": 38
        }
      ]
    },
    {
      "cell_type": "code",
      "metadata": {
        "id": "jrOPUv4jieHI",
        "colab_type": "code",
        "colab": {}
      },
      "source": [
        "avg_norm_loss = df[\"AGE\"].astype(\"float\").mean(axis=0)\n",
        "print(\"AGE:\", avg_norm_loss)\n",
        "df[\"AGE\"].replace(np.nan, avg_norm_loss, inplace=True)"
      ],
      "execution_count": null,
      "outputs": []
    }
  ]
}